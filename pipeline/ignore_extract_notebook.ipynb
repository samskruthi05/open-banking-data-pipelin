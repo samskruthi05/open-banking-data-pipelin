{
 "cells": [
  {
   "cell_type": "markdown",
   "id": "ce894fb0",
   "metadata": {},
   "source": [
    "just a practice thing\n",
    "### “This notebook was used for early exploration of the JSON input files.”"
   ]
  },
  {
   "cell_type": "code",
   "execution_count": 120,
   "id": "fc5cf155",
   "metadata": {},
   "outputs": [],
   "source": [
    "files = [\n",
    "    '../data/tech_assessment_transactions_01.json',\n",
    "    '../data/tech_assessment_transactions_02.json'\n",
    "]\n"
   ]
  },
  {
   "cell_type": "code",
   "execution_count": 121,
   "id": "c1421e14",
   "metadata": {},
   "outputs": [],
   "source": [
    "import json"
   ]
  },
  {
   "cell_type": "code",
   "execution_count": null,
   "id": "8cdf9606",
   "metadata": {},
   "outputs": [
    {
     "name": "stdout",
     "output_type": "stream",
     "text": [
      "<class 'dict'>\n",
      "dict_keys(['transactions'])\n",
      "{'customerId': '5ce62505-25dc-4797-9f6e-4b78cf5ad1ad', 'customerName': 'Vernon Garcia', 'transactionId': 'b9e34546-0002-42a3-a834-b7b8d408a665', 'transactionDate': '2021-01-01', 'sourceDate': '2021-01-07T15:24:47', 'merchantId': 47, 'categoryId': 11, 'currency': 'INR', 'amount': '-314.72', 'description': 'Robinson Ltd | General'}\n",
      "INR\n",
      "<class 'dict'>\n",
      "dict_keys(['transactions'])\n",
      "{'customerId': '9e525583-59b7-405f-80b7-caee0bbc488a', 'customerName': 'Erica Jenkins', 'transactionId': '7c500608-28d8-4666-9831-e3bb9ffee41b', 'transactionDate': '2023-02-14', 'sourceDate': '2023-02-19T18:33:03', 'merchantId': 20, 'categoryId': 7, 'currency': 'INR', 'amount': '1027.78', 'description': 'Cole-Chambers | Charity'}\n",
      "INR\n"
     ]
    }
   ],
   "source": [
    "for file in files:\n",
    "    with open(file) as f:\n",
    "        data = json.load(f)\n",
    "        #print(data)\n",
    "        print(type(data))\n",
    "        print(data.keys())\n",
    "        #print(type(data['transactions']))\n",
    "        #print(len(data['transactions']))\n",
    "        #print(data.get(\"transactions\",[])[:10])\n",
    "        accepted_currency = ['EUR', 'GBP', 'USD']\n",
    "        valid_records = []\n",
    "        error_records = []\n",
    "        for i in data[\"transactions\"]:\n",
    "            #currency  = \n",
    "            #print(i)\n",
    "            #print(i[\"currency\"])\n",
    "            currency = i[\"currency\"]\n",
    "            if currency not in  accepted_currency:\n",
    "                #print(f\"this is not valid {currency} \")\n",
    "                error_records.append(i)\n",
    "            else:\n",
    "                valid_records.append(i)\n",
    "                \n",
    "        print(error_records[0])\n",
    "        print(error_records[0][\"currency\"])\n",
    "      \n",
    "      \n",
    "\n",
    "        \n",
    "       \n",
    "                \n",
    "        \n",
    "\n",
    "\n",
    "\n",
    "\n",
    "\n",
    "                \n",
    "\n",
    "\n",
    "        \n",
    "      \n",
    "\n",
    "\n",
    "\n",
    "                \n",
    "                \n",
    "\n",
    "            \n",
    "        \n",
    "\n",
    "      \n",
    "       \n",
    "   "
   ]
  },
  {
   "cell_type": "code",
   "execution_count": 133,
   "id": "6e99cde7",
   "metadata": {},
   "outputs": [
    {
     "name": "stdout",
     "output_type": "stream",
     "text": [
      "[{'customerId': '4638c911-f939-4e03-8bf1-6a128fa905be', 'customerName': 'Morgan Green', 'transactionId': '2bb84d08-a61c-419b-806a-053c96074cc0', 'transactionDate': '2021-01-01', 'sourceDate': '2021-01-01T02:40:51', 'merchantId': 50, 'categoryId': 10, 'currency': 'USD', 'amount': '1258.85', 'description': 'Gonzalez, Ho and Guzman | Travel'}, {'customerId': '439aa836-146e-48ec-9c4c-cbd59b153602', 'customerName': 'Melissa Sandoval', 'transactionId': '5c9ddc80-2b51-4ca4-9134-e7227342972a', 'transactionDate': '2021-01-01', 'sourceDate': '2021-01-01T12:57:36', 'merchantId': 75, 'categoryId': 6, 'currency': 'EUR', 'amount': '-672.51', 'description': 'Brewer PLC | Home & Family'}, {'customerId': '076cfa0e-3e2a-4a67-884a-f229e95ff8be', 'customerName': 'Erica Schwartz', 'transactionId': '15fa8fb6-f09a-4497-8822-cf5054d66d05', 'transactionDate': '2021-01-02', 'sourceDate': '2021-01-03T02:21:47', 'merchantId': 21, 'categoryId': 1, 'currency': 'USD', 'amount': '148.47', 'description': 'Castaneda and Sons | Transport'}]\n",
      "these are distinct names {'195.19', '-120.32', '726.97', '-251.88', '-1092.78', '-260.94', '-314.72', '819.33', '999.28', '-1601.67', '-419.19', '-1304.47', '1044.77', '-672.51', '1515.80', '798.75', '-2437.65', '-889.6', '1473.40', '1258.85', '272.47', '-1218.48', '618.16', '-512.97', '-25.86', '1629.80', '-1417.38', '148.47', '-1591.38', '382.46'}\n",
      "[{'customerId': '10baf603-08b7-4ae9-8199-e65adec6db84', 'customerName': 'Elizabeth Potter', 'transactionId': '2e8c0348-c755-42ce-8695-32e34d1bd033', 'transactionDate': '2023-02-02', 'sourceDate': '2023-02-03T07:44:29', 'merchantId': 55, 'categoryId': 10, 'currency': 'GBP', 'amount': '-1026.64', 'description': 'Williams, Baldwin and Roth | Travel'}, {'customerId': '52f864a4-fa49-4d21-a073-a5962e827ada', 'customerName': 'Alexis Rodriguez', 'transactionId': '10853657-34f9-4cae-ae1a-56fb879b6775', 'transactionDate': '2023-02-03', 'sourceDate': '2023-02-05T18:12:58', 'merchantId': 37, 'categoryId': 6, 'currency': 'USD', 'amount': '823.13', 'description': 'Barrett LLC | Home & Family'}, {'customerId': '500e0b62-08bd-4c46-906f-f0cee4ec6782', 'customerName': 'Clinton Flores', 'transactionId': 'aa978148-2de9-47a6-83b0-72ec41781d9e', 'transactionDate': '2023-02-02', 'sourceDate': '2023-02-07T02:02:06', 'merchantId': 18, 'categoryId': 3, 'currency': 'EUR', 'amount': '-1943.98', 'description': 'Phillips Ltd | Shopping'}]\n",
      "these are distinct names {'-680.24', '22.78', '-86.80', '22.91', '61.4', '823.13', '-328.97', '877.28', '-1129.66', '48.77', '-22.22', '15.96', '-1943.98', '-442.33', '1744.79', '482.52', '-588.65', '307.1', '-49.73', '512.27', '-1026.64', '525.66', '-492.32', '437.53', '-42.71', '-50.94', '-505.31', '-660.85', '-885.0', '1416.16'}\n"
     ]
    }
   ],
   "source": [
    "from datetime import datetime\n",
    "for file in files:\n",
    "    with open(file) as f:\n",
    "        data=json.load(f)\n",
    "        print(data[\"transactions\"][:3])\n",
    "        distinct_amounts = set()\n",
    "        for txn in data[\"transactions\"][:30]:\n",
    "            distinct_amounts.add(txn[\"amount\"])\n",
    "        print(f'these are distinct names {distinct_amounts}')\n",
    "       \n",
    "\n",
    "\n",
    "   \n"
   ]
  },
  {
   "cell_type": "code",
   "execution_count": null,
   "id": "f35f0bef",
   "metadata": {},
   "outputs": [],
   "source": [
    "all_records =[]\n",
    "for file in files:\n",
    "    try:\n",
    "        with open(file) as f:\n",
    "            data = json.load(f)\n",
    "            print(len(data[\"transactions\"]))\n",
    "            print(data.keys())\n",
    "            print(type(data[\"transactions\"][0]))\n",
    "    except FileNotFoundError:\n",
    "        logging.warning('file not found error ')\n",
    "    if isinstance(data[\"transactions\"], dict) and \"transactions\" in data:\n",
    "        all_records.extend(data[\"transactions\"])\n",
    "    if isinstance(data[\"transactions\"], list):\n",
    "        all_records.extend(data[\"transactions\"])\n",
    "print(all_records[:5])\n",
    "print(type(all_records))\n",
    "print(len(all_records))\n",
    "\n",
    "\n",
    "   \n",
    "\n",
    "        \n",
    "    \n",
    "   "
   ]
  },
  {
   "cell_type": "code",
   "execution_count": null,
   "id": "651c74b0",
   "metadata": {},
   "outputs": [],
   "source": [
    "records = [\n",
    "    {\n",
    "        \"customerId\": \"1234\",\n",
    "        \"customerName\": \"John Doe\",\n",
    "        \"transactionId\": \"txn-001\",\n",
    "        \"transactionDate\": \"2023-01-10\",\n",
    "        \"sourceDate\": \"2023-01-11T10:00:00\",\n",
    "        \"merchantId\": 10,\n",
    "        \"categoryId\": 1,\n",
    "        \"currency\": \"USD\",\n",
    "        \"amount\": \"100.00\",\n",
    "        \"description\": \"Test Merchant | Groceries\"\n",
    "    },\n",
    "    {\n",
    "        \"customerId\": \"1234\",\n",
    "        \"customerName\": \"John Doe\",\n",
    "        \"transactionId\": \"txn-001\",  # duplicate\n",
    "        \"transactionDate\": \"2023-01-10\",\n",
    "        \"sourceDate\": \"2023-01-11T10:00:00\",\n",
    "        \"merchantId\": 10,\n",
    "        \"categoryId\": 1,\n",
    "        \"currency\": \"XXX\",  # invalid\n",
    "        \"amount\": \"0\",      # invalid\n",
    "        \"description\": \"Test Merchant | Groceries\"\n",
    "    },\n",
    "    {\n",
    "    \"currency\":\"ist\",\n",
    "    \"amount\":\"0\"}\n",
    "]\n",
    "from pprint import pprint"
   ]
  },
  {
   "cell_type": "code",
   "execution_count": null,
   "id": "378e00c8",
   "metadata": {},
   "outputs": [],
   "source": []
  },
  {
   "cell_type": "code",
   "execution_count": null,
   "id": "3318a25f",
   "metadata": {},
   "outputs": [],
   "source": [
    "#dq checks\n",
    "accepted_currencies =[\"EUR\", \"GBP\", \"USD\"]\n",
    "valid_records = []\n",
    "invalid_records = []\n",
    "error_records =[]\n",
    "\n",
    "for i in all_records:\n",
    "    #print(i[\"currency\"])\n",
    "    errors  = []\n",
    "\n",
    "    if i [\"currency\"] not in accepted_currencies:\n",
    "        print(f'this is invalid {i[\"currency\"]}')\n",
    "        print(f'this is the invalid row {i}')\n",
    "        \n",
    "        errors.append('invalid currency')\n",
    "    \n",
    "    try:\n",
    "        if float(i.get(\"amount\"))==0:\n",
    "            print('invalid amount')\n",
    "            invalid_records.append(({\"record\":i, \"errors\":errors}))\n",
    "    except (TypeError, ValueError):\n",
    "        logging.warning('there is a type or value error')\n",
    "        \n",
    "    if str(i.get(\"amount\", \"\")).strip()==\"\":\n",
    "        print('invalid amount has empty strings')\n",
    "        errors.append('invalid amount has empty strrings')\n",
    "    \n",
    "    if errors:\n",
    "        print('errors', errors)\n",
    "        invalid_records.append(({\"record\":i, \"errors\":errors}))\n",
    "print(invalid_records)\n",
    "\n",
    "        \n"
   ]
  }
 ],
 "metadata": {
  "kernelspec": {
   "display_name": "venv",
   "language": "python",
   "name": "python3"
  },
  "language_info": {
   "codemirror_mode": {
    "name": "ipython",
    "version": 3
   },
   "file_extension": ".py",
   "mimetype": "text/x-python",
   "name": "python",
   "nbconvert_exporter": "python",
   "pygments_lexer": "ipython3",
   "version": "3.13.5"
  }
 },
 "nbformat": 4,
 "nbformat_minor": 5
}
